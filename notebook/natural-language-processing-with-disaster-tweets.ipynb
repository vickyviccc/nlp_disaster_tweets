{
 "cells": [
  {
   "cell_type": "code",
   "execution_count": 1,
   "id": "9ae358af",
   "metadata": {
    "_cell_guid": "b1076dfc-b9ad-4769-8c92-a6c4dae69d19",
    "_uuid": "8f2839f25d086af736a60e9eeb907d3b93b6e0e5",
    "execution": {
     "iopub.execute_input": "2024-11-08T17:32:54.190790Z",
     "iopub.status.busy": "2024-11-08T17:32:54.190273Z",
     "iopub.status.idle": "2024-11-08T17:32:55.029752Z",
     "shell.execute_reply": "2024-11-08T17:32:55.028477Z"
    },
    "papermill": {
     "duration": 0.851998,
     "end_time": "2024-11-08T17:32:55.032334",
     "exception": false,
     "start_time": "2024-11-08T17:32:54.180336",
     "status": "completed"
    },
    "tags": []
   },
   "outputs": [
    {
     "name": "stdout",
     "output_type": "stream",
     "text": [
      "/kaggle/input/nlp-getting-started/sample_submission.csv\n",
      "/kaggle/input/nlp-getting-started/train.csv\n",
      "/kaggle/input/nlp-getting-started/test.csv\n"
     ]
    }
   ],
   "source": [
    "# This Python 3 environment comes with many helpful analytics libraries installed\n",
    "# It is defined by the kaggle/python Docker image: https://github.com/kaggle/docker-python\n",
    "# For example, here's several helpful packages to load\n",
    "\n",
    "import numpy as np # linear algebra\n",
    "import pandas as pd # data processing, CSV file I/O (e.g. pd.read_csv)\n",
    "\n",
    "# Input data files are available in the read-only \"../input/\" directory\n",
    "# For example, running this (by clicking run or pressing Shift+Enter) will list all files under the input directory\n",
    "\n",
    "import os\n",
    "for dirname, _, filenames in os.walk('/kaggle/input'):\n",
    "    for filename in filenames:\n",
    "        print(os.path.join(dirname, filename))\n",
    "\n",
    "# You can write up to 20GB to the current directory (/kaggle/working/) that gets preserved as output when you create a version using \"Save & Run All\" \n",
    "# You can also write temporary files to /kaggle/temp/, but they won't be saved outside of the current session"
   ]
  },
  {
   "cell_type": "markdown",
   "id": "ec2bfc43",
   "metadata": {
    "papermill": {
     "duration": 0.007009,
     "end_time": "2024-11-08T17:32:55.047114",
     "exception": false,
     "start_time": "2024-11-08T17:32:55.040105",
     "status": "completed"
    },
    "tags": []
   },
   "source": [
    "# **Import Necessary Libraries**"
   ]
  },
  {
   "cell_type": "code",
   "execution_count": 2,
   "id": "cc41d9f0",
   "metadata": {
    "execution": {
     "iopub.execute_input": "2024-11-08T17:32:55.063439Z",
     "iopub.status.busy": "2024-11-08T17:32:55.062909Z",
     "iopub.status.idle": "2024-11-08T17:32:57.881993Z",
     "shell.execute_reply": "2024-11-08T17:32:57.880975Z"
    },
    "papermill": {
     "duration": 2.830029,
     "end_time": "2024-11-08T17:32:57.884407",
     "exception": false,
     "start_time": "2024-11-08T17:32:55.054378",
     "status": "completed"
    },
    "tags": []
   },
   "outputs": [
    {
     "name": "stderr",
     "output_type": "stream",
     "text": [
      "/opt/conda/lib/python3.10/site-packages/nltk/twitter/__init__.py:20: UserWarning: The twython library has not been installed. Some functionality from the twitter package will not be available.\n",
      "  warnings.warn(\"The twython library has not been installed. \"\n"
     ]
    }
   ],
   "source": [
    "# Import necessary libraries\n",
    "import pandas as pd\n",
    "import numpy as np\n",
    "import matplotlib.pyplot as plt\n",
    "import seaborn as sns\n",
    "from sklearn.model_selection import train_test_split\n",
    "from sklearn.metrics import classification_report, confusion_matrix, accuracy_score\n",
    "from catboost import CatBoostClassifier\n",
    "import re\n",
    "import string\n",
    "import nltk\n",
    "from nltk.sentiment.vader import SentimentIntensityAnalyzer\n",
    "from sklearn.model_selection import train_test_split\n",
    "from scipy.sparse import hstack, csr_matrix\n",
    "from sklearn.feature_extraction.text import TfidfVectorizer\n",
    "\n"
   ]
  },
  {
   "cell_type": "markdown",
   "id": "f266e0a0",
   "metadata": {
    "papermill": {
     "duration": 0.006761,
     "end_time": "2024-11-08T17:32:57.898374",
     "exception": false,
     "start_time": "2024-11-08T17:32:57.891613",
     "status": "completed"
    },
    "tags": []
   },
   "source": [
    "# **Data Loading and Overview**"
   ]
  },
  {
   "cell_type": "code",
   "execution_count": 3,
   "id": "c57c4a66",
   "metadata": {
    "execution": {
     "iopub.execute_input": "2024-11-08T17:32:57.915114Z",
     "iopub.status.busy": "2024-11-08T17:32:57.914542Z",
     "iopub.status.idle": "2024-11-08T17:32:58.016706Z",
     "shell.execute_reply": "2024-11-08T17:32:58.015499Z"
    },
    "papermill": {
     "duration": 0.112752,
     "end_time": "2024-11-08T17:32:58.019018",
     "exception": false,
     "start_time": "2024-11-08T17:32:57.906266",
     "status": "completed"
    },
    "tags": []
   },
   "outputs": [
    {
     "name": "stdout",
     "output_type": "stream",
     "text": [
      "Train Data:\n"
     ]
    },
    {
     "data": {
      "text/html": [
       "<div>\n",
       "<style scoped>\n",
       "    .dataframe tbody tr th:only-of-type {\n",
       "        vertical-align: middle;\n",
       "    }\n",
       "\n",
       "    .dataframe tbody tr th {\n",
       "        vertical-align: top;\n",
       "    }\n",
       "\n",
       "    .dataframe thead th {\n",
       "        text-align: right;\n",
       "    }\n",
       "</style>\n",
       "<table border=\"1\" class=\"dataframe\">\n",
       "  <thead>\n",
       "    <tr style=\"text-align: right;\">\n",
       "      <th></th>\n",
       "      <th>id</th>\n",
       "      <th>keyword</th>\n",
       "      <th>location</th>\n",
       "      <th>text</th>\n",
       "      <th>target</th>\n",
       "    </tr>\n",
       "  </thead>\n",
       "  <tbody>\n",
       "    <tr>\n",
       "      <th>0</th>\n",
       "      <td>1</td>\n",
       "      <td>NaN</td>\n",
       "      <td>NaN</td>\n",
       "      <td>Our Deeds are the Reason of this #earthquake M...</td>\n",
       "      <td>1</td>\n",
       "    </tr>\n",
       "    <tr>\n",
       "      <th>1</th>\n",
       "      <td>4</td>\n",
       "      <td>NaN</td>\n",
       "      <td>NaN</td>\n",
       "      <td>Forest fire near La Ronge Sask. Canada</td>\n",
       "      <td>1</td>\n",
       "    </tr>\n",
       "    <tr>\n",
       "      <th>2</th>\n",
       "      <td>5</td>\n",
       "      <td>NaN</td>\n",
       "      <td>NaN</td>\n",
       "      <td>All residents asked to 'shelter in place' are ...</td>\n",
       "      <td>1</td>\n",
       "    </tr>\n",
       "    <tr>\n",
       "      <th>3</th>\n",
       "      <td>6</td>\n",
       "      <td>NaN</td>\n",
       "      <td>NaN</td>\n",
       "      <td>13,000 people receive #wildfires evacuation or...</td>\n",
       "      <td>1</td>\n",
       "    </tr>\n",
       "    <tr>\n",
       "      <th>4</th>\n",
       "      <td>7</td>\n",
       "      <td>NaN</td>\n",
       "      <td>NaN</td>\n",
       "      <td>Just got sent this photo from Ruby #Alaska as ...</td>\n",
       "      <td>1</td>\n",
       "    </tr>\n",
       "  </tbody>\n",
       "</table>\n",
       "</div>"
      ],
      "text/plain": [
       "   id keyword location                                               text  \\\n",
       "0   1     NaN      NaN  Our Deeds are the Reason of this #earthquake M...   \n",
       "1   4     NaN      NaN             Forest fire near La Ronge Sask. Canada   \n",
       "2   5     NaN      NaN  All residents asked to 'shelter in place' are ...   \n",
       "3   6     NaN      NaN  13,000 people receive #wildfires evacuation or...   \n",
       "4   7     NaN      NaN  Just got sent this photo from Ruby #Alaska as ...   \n",
       "\n",
       "   target  \n",
       "0       1  \n",
       "1       1  \n",
       "2       1  \n",
       "3       1  \n",
       "4       1  "
      ]
     },
     "metadata": {},
     "output_type": "display_data"
    },
    {
     "name": "stdout",
     "output_type": "stream",
     "text": [
      "\n",
      "Test Data:\n"
     ]
    },
    {
     "data": {
      "text/html": [
       "<div>\n",
       "<style scoped>\n",
       "    .dataframe tbody tr th:only-of-type {\n",
       "        vertical-align: middle;\n",
       "    }\n",
       "\n",
       "    .dataframe tbody tr th {\n",
       "        vertical-align: top;\n",
       "    }\n",
       "\n",
       "    .dataframe thead th {\n",
       "        text-align: right;\n",
       "    }\n",
       "</style>\n",
       "<table border=\"1\" class=\"dataframe\">\n",
       "  <thead>\n",
       "    <tr style=\"text-align: right;\">\n",
       "      <th></th>\n",
       "      <th>id</th>\n",
       "      <th>keyword</th>\n",
       "      <th>location</th>\n",
       "      <th>text</th>\n",
       "    </tr>\n",
       "  </thead>\n",
       "  <tbody>\n",
       "    <tr>\n",
       "      <th>0</th>\n",
       "      <td>0</td>\n",
       "      <td>NaN</td>\n",
       "      <td>NaN</td>\n",
       "      <td>Just happened a terrible car crash</td>\n",
       "    </tr>\n",
       "    <tr>\n",
       "      <th>1</th>\n",
       "      <td>2</td>\n",
       "      <td>NaN</td>\n",
       "      <td>NaN</td>\n",
       "      <td>Heard about #earthquake is different cities, s...</td>\n",
       "    </tr>\n",
       "    <tr>\n",
       "      <th>2</th>\n",
       "      <td>3</td>\n",
       "      <td>NaN</td>\n",
       "      <td>NaN</td>\n",
       "      <td>there is a forest fire at spot pond, geese are...</td>\n",
       "    </tr>\n",
       "    <tr>\n",
       "      <th>3</th>\n",
       "      <td>9</td>\n",
       "      <td>NaN</td>\n",
       "      <td>NaN</td>\n",
       "      <td>Apocalypse lighting. #Spokane #wildfires</td>\n",
       "    </tr>\n",
       "    <tr>\n",
       "      <th>4</th>\n",
       "      <td>11</td>\n",
       "      <td>NaN</td>\n",
       "      <td>NaN</td>\n",
       "      <td>Typhoon Soudelor kills 28 in China and Taiwan</td>\n",
       "    </tr>\n",
       "  </tbody>\n",
       "</table>\n",
       "</div>"
      ],
      "text/plain": [
       "   id keyword location                                               text\n",
       "0   0     NaN      NaN                 Just happened a terrible car crash\n",
       "1   2     NaN      NaN  Heard about #earthquake is different cities, s...\n",
       "2   3     NaN      NaN  there is a forest fire at spot pond, geese are...\n",
       "3   9     NaN      NaN           Apocalypse lighting. #Spokane #wildfires\n",
       "4  11     NaN      NaN      Typhoon Soudelor kills 28 in China and Taiwan"
      ]
     },
     "metadata": {},
     "output_type": "display_data"
    },
    {
     "name": "stdout",
     "output_type": "stream",
     "text": [
      "\n",
      "Missing Values in Train Data:\n",
      "id             0\n",
      "keyword       61\n",
      "location    2533\n",
      "text           0\n",
      "target         0\n",
      "dtype: int64\n",
      "\n",
      "Missing Values in Test Data:\n",
      "id             0\n",
      "keyword       26\n",
      "location    1105\n",
      "text           0\n",
      "dtype: int64\n",
      "\n",
      "Data Types in Train Data:\n",
      "id           int64\n",
      "keyword     object\n",
      "location    object\n",
      "text        object\n",
      "target       int64\n",
      "dtype: object\n",
      "\n",
      "Data Types in Test Data:\n",
      "id           int64\n",
      "keyword     object\n",
      "location    object\n",
      "text        object\n",
      "dtype: object\n"
     ]
    }
   ],
   "source": [
    "# Load the datasets\n",
    "train_data = pd.read_csv('/kaggle/input/nlp-getting-started/train.csv')\n",
    "test_data = pd.read_csv('/kaggle/input/nlp-getting-started/test.csv')\n",
    "\n",
    "\n",
    "# Display the first few rows of each dataset\n",
    "print(\"Train Data:\")\n",
    "display(train_data.head())\n",
    "\n",
    "print(\"\\nTest Data:\")\n",
    "display(test_data.head())\n",
    "\n",
    "\n",
    "# Check for missing values in each dataset\n",
    "print(\"\\nMissing Values in Train Data:\")\n",
    "print(train_data.isnull().sum())\n",
    "\n",
    "print(\"\\nMissing Values in Test Data:\")\n",
    "print(test_data.isnull().sum())\n",
    "\n",
    "# Check data types\n",
    "print(\"\\nData Types in Train Data:\")\n",
    "print(train_data.dtypes)\n",
    "\n",
    "print(\"\\nData Types in Test Data:\")\n",
    "print(test_data.dtypes)\n"
   ]
  },
  {
   "cell_type": "markdown",
   "id": "8eac1796",
   "metadata": {
    "papermill": {
     "duration": 0.007388,
     "end_time": "2024-11-08T17:32:58.034221",
     "exception": false,
     "start_time": "2024-11-08T17:32:58.026833",
     "status": "completed"
    },
    "tags": []
   },
   "source": [
    "# **Exploratory Data Analysis (EDA)**"
   ]
  },
  {
   "cell_type": "code",
   "execution_count": 4,
   "id": "ee60881c",
   "metadata": {
    "execution": {
     "iopub.execute_input": "2024-11-08T17:32:58.051271Z",
     "iopub.status.busy": "2024-11-08T17:32:58.050887Z",
     "iopub.status.idle": "2024-11-08T17:32:58.387589Z",
     "shell.execute_reply": "2024-11-08T17:32:58.386618Z"
    },
    "papermill": {
     "duration": 0.34778,
     "end_time": "2024-11-08T17:32:58.389661",
     "exception": false,
     "start_time": "2024-11-08T17:32:58.041881",
     "status": "completed"
    },
    "tags": []
   },
   "outputs": [
    {
     "data": {
      "image/png": "[encoded data removed]",
      "text/plain": [
       "<Figure size 600x400 with 1 Axes>"
      ]
     },
     "metadata": {},
     "output_type": "display_data"
    }
   ],
   "source": [
    "# Plot the target variable distribution\n",
    "plt.figure(figsize=(6,4))\n",
    "sns.countplot(x='target', data=train_data)\n",
    "plt.title('Distribution of Disaster (1) vs. Non-Disaster (0) Tweets')\n",
    "plt.xlabel('Target')\n",
    "plt.ylabel('Count')\n",
    "plt.show()\n"
   ]
  },
  {
   "cell_type": "code",
   "execution_count": 5,
   "id": "0ce68201",
   "metadata": {
    "execution": {
     "iopub.execute_input": "2024-11-08T17:32:58.408242Z",
     "iopub.status.busy": "2024-11-08T17:32:58.407289Z",
     "iopub.status.idle": "2024-11-08T17:32:59.216591Z",
     "shell.execute_reply": "2024-11-08T17:32:59.215304Z"
    },
    "papermill": {
     "duration": 0.821148,
     "end_time": "2024-11-08T17:32:59.219029",
     "exception": false,
     "start_time": "2024-11-08T17:32:58.397881",
     "status": "completed"
    },
    "tags": []
   },
   "outputs": [
    {
     "data": {
      "image/png": "[encoded data removed]",
      "text/plain": [
       "<Figure size 1000x500 with 1 Axes>"
      ]
     },
     "metadata": {},
     "output_type": "display_data"
    },
    {
     "data": {
      "image/png": "[encoded data removed]",
      "text/plain": [
       "<Figure size 1000x500 with 1 Axes>"
      ]
     },
     "metadata": {},
     "output_type": "display_data"
    }
   ],
   "source": [
    "# Visualize missing values in train and test datasets\n",
    "plt.figure(figsize=(10,5))\n",
    "sns.heatmap(train_data.isnull(), cbar=False, cmap='viridis')\n",
    "plt.title('Missing Values in Train Data')\n",
    "plt.show()\n",
    "\n",
    "plt.figure(figsize=(10,5))\n",
    "sns.heatmap(test_data.isnull(), cbar=False, cmap='viridis')\n",
    "plt.title('Missing Values in Test Data')\n",
    "plt.show()\n"
   ]
  },
  {
   "cell_type": "code",
   "execution_count": 6,
   "id": "ba7572de",
   "metadata": {
    "execution": {
     "iopub.execute_input": "2024-11-08T17:32:59.241000Z",
     "iopub.status.busy": "2024-11-08T17:32:59.240010Z",
     "iopub.status.idle": "2024-11-08T17:32:59.736910Z",
     "shell.execute_reply": "2024-11-08T17:32:59.735608Z"
    },
    "papermill": {
     "duration": 0.510346,
     "end_time": "2024-11-08T17:32:59.739341",
     "exception": false,
     "start_time": "2024-11-08T17:32:59.228995",
     "status": "completed"
    },
    "tags": []
   },
   "outputs": [
    {
     "data": {
      "image/png": "[encoded data removed]",
      "text/plain": [
       "<Figure size 1200x600 with 1 Axes>"
      ]
     },
     "metadata": {},
     "output_type": "display_data"
    }
   ],
   "source": [
    "# Top 20 most common keywords in disaster vs. non-disaster tweets\n",
    "plt.figure(figsize=(12,6))\n",
    "sns.countplot(data=train_data, y='keyword', order=train_data['keyword'].value_counts().iloc[:20].index, hue='target')\n",
    "plt.title('Top 20 Keywords by Target')\n",
    "plt.xlabel('Count')\n",
    "plt.ylabel('Keyword')\n",
    "plt.legend(title='Target', labels=['Non-Disaster', 'Disaster'])\n",
    "plt.show()\n"
   ]
  },
  {
   "cell_type": "code",
   "execution_count": 7,
   "id": "e807150b",
   "metadata": {
    "execution": {
     "iopub.execute_input": "2024-11-08T17:32:59.761750Z",
     "iopub.status.busy": "2024-11-08T17:32:59.761320Z",
     "iopub.status.idle": "2024-11-08T17:33:00.298814Z",
     "shell.execute_reply": "2024-11-08T17:33:00.297523Z"
    },
    "papermill": {
     "duration": 0.551866,
     "end_time": "2024-11-08T17:33:00.301544",
     "exception": false,
     "start_time": "2024-11-08T17:32:59.749678",
     "status": "completed"
    },
    "tags": []
   },
   "outputs": [
    {
     "name": "stderr",
     "output_type": "stream",
     "text": [
      "/opt/conda/lib/python3.10/site-packages/seaborn/_oldcore.py:1119: FutureWarning: use_inf_as_na option is deprecated and will be removed in a future version. Convert inf values to NaN before operating instead.\n",
      "  with pd.option_context('mode.use_inf_as_na', True):\n",
      "/opt/conda/lib/python3.10/site-packages/seaborn/_oldcore.py:1075: FutureWarning: When grouping with a length-1 list-like, you will need to pass a length-1 tuple to get_group in a future version of pandas. Pass `(name,)` instead of `name` to silence this warning.\n",
      "  data_subset = grouped_data.get_group(pd_key)\n",
      "/opt/conda/lib/python3.10/site-packages/seaborn/_oldcore.py:1075: FutureWarning: When grouping with a length-1 list-like, you will need to pass a length-1 tuple to get_group in a future version of pandas. Pass `(name,)` instead of `name` to silence this warning.\n",
      "  data_subset = grouped_data.get_group(pd_key)\n",
      "/opt/conda/lib/python3.10/site-packages/seaborn/_oldcore.py:1075: FutureWarning: When grouping with a length-1 list-like, you will need to pass a length-1 tuple to get_group in a future version of pandas. Pass `(name,)` instead of `name` to silence this warning.\n",
      "  data_subset = grouped_data.get_group(pd_key)\n"
     ]
    },
    {
     "data": {
      "image/png": "[encoded data removed]",
      "text/plain": [
       "<Figure size 1000x600 with 1 Axes>"
      ]
     },
     "metadata": {},
     "output_type": "display_data"
    }
   ],
   "source": [
    "# Calculate the length of each tweet\n",
    "train_data['text_length'] = train_data['text'].apply(len)\n",
    "\n",
    "# Plot distribution of tweet lengths by target\n",
    "plt.figure(figsize=(10,6))\n",
    "sns.histplot(data=train_data, x='text_length', hue='target', bins=30, kde=True)\n",
    "plt.title('Tweet Length Distribution by Target')\n",
    "plt.xlabel('Tweet Length')\n",
    "plt.ylabel('Frequency')\n",
    "plt.show()\n"
   ]
  },
  {
   "cell_type": "markdown",
   "id": "08d3772c",
   "metadata": {
    "papermill": {
     "duration": 0.015579,
     "end_time": "2024-11-08T17:33:00.333206",
     "exception": false,
     "start_time": "2024-11-08T17:33:00.317627",
     "status": "completed"
    },
    "tags": []
   },
   "source": [
    "# **Data Preprocessing**"
   ]
  },
  {
   "cell_type": "code",
   "execution_count": 8,
   "id": "d4592374",
   "metadata": {
    "execution": {
     "iopub.execute_input": "2024-11-08T17:33:00.364504Z",
     "iopub.status.busy": "2024-11-08T17:33:00.363506Z",
     "iopub.status.idle": "2024-11-08T17:33:00.392496Z",
     "shell.execute_reply": "2024-11-08T17:33:00.391449Z"
    },
    "papermill": {
     "duration": 0.045414,
     "end_time": "2024-11-08T17:33:00.394950",
     "exception": false,
     "start_time": "2024-11-08T17:33:00.349536",
     "status": "completed"
    },
    "tags": []
   },
   "outputs": [
    {
     "name": "stderr",
     "output_type": "stream",
     "text": [
      "/tmp/ipykernel_17/2533620121.py:7: FutureWarning: A value is trying to be set on a copy of a DataFrame or Series through chained assignment using an inplace method.\n",
      "The behavior will change in pandas 3.0. This inplace method will never work because the intermediate object on which we are setting values always behaves as a copy.\n",
      "\n",
      "For example, when doing 'df[col].method(value, inplace=True)', try using 'df.method({col: value}, inplace=True)' or df[col] = df[col].method(value) instead, to perform the operation inplace on the original object.\n",
      "\n",
      "\n",
      "  train_data['keyword'].fillna('missing', inplace=True)\n",
      "/tmp/ipykernel_17/2533620121.py:8: FutureWarning: A value is trying to be set on a copy of a DataFrame or Series through chained assignment using an inplace method.\n",
      "The behavior will change in pandas 3.0. This inplace method will never work because the intermediate object on which we are setting values always behaves as a copy.\n",
      "\n",
      "For example, when doing 'df[col].method(value, inplace=True)', try using 'df.method({col: value}, inplace=True)' or df[col] = df[col].method(value) instead, to perform the operation inplace on the original object.\n",
      "\n",
      "\n",
      "  test_data['keyword'].fillna('missing', inplace=True)\n",
      "/tmp/ipykernel_17/2533620121.py:11: FutureWarning: A value is trying to be set on a copy of a DataFrame or Series through chained assignment using an inplace method.\n",
      "The behavior will change in pandas 3.0. This inplace method will never work because the intermediate object on which we are setting values always behaves as a copy.\n",
      "\n",
      "For example, when doing 'df[col].method(value, inplace=True)', try using 'df.method({col: value}, inplace=True)' or df[col] = df[col].method(value) instead, to perform the operation inplace on the original object.\n",
      "\n",
      "\n",
      "  train_data['location'].fillna('unknown', inplace=True)\n",
      "/tmp/ipykernel_17/2533620121.py:12: FutureWarning: A value is trying to be set on a copy of a DataFrame or Series through chained assignment using an inplace method.\n",
      "The behavior will change in pandas 3.0. This inplace method will never work because the intermediate object on which we are setting values always behaves as a copy.\n",
      "\n",
      "For example, when doing 'df[col].method(value, inplace=True)', try using 'df.method({col: value}, inplace=True)' or df[col] = df[col].method(value) instead, to perform the operation inplace on the original object.\n",
      "\n",
      "\n",
      "  test_data['location'].fillna('unknown', inplace=True)\n"
     ]
    },
    {
     "data": {
      "text/html": [
       "<div>\n",
       "<style scoped>\n",
       "    .dataframe tbody tr th:only-of-type {\n",
       "        vertical-align: middle;\n",
       "    }\n",
       "\n",
       "    .dataframe tbody tr th {\n",
       "        vertical-align: top;\n",
       "    }\n",
       "\n",
       "    .dataframe thead th {\n",
       "        text-align: right;\n",
       "    }\n",
       "</style>\n",
       "<table border=\"1\" class=\"dataframe\">\n",
       "  <thead>\n",
       "    <tr style=\"text-align: right;\">\n",
       "      <th></th>\n",
       "      <th>id</th>\n",
       "      <th>keyword</th>\n",
       "      <th>location</th>\n",
       "      <th>text</th>\n",
       "      <th>target</th>\n",
       "      <th>text_length</th>\n",
       "    </tr>\n",
       "  </thead>\n",
       "  <tbody>\n",
       "    <tr>\n",
       "      <th>0</th>\n",
       "      <td>1</td>\n",
       "      <td>missing</td>\n",
       "      <td>unknown</td>\n",
       "      <td>Our Deeds are the Reason of this #earthquake M...</td>\n",
       "      <td>1</td>\n",
       "      <td>69</td>\n",
       "    </tr>\n",
       "    <tr>\n",
       "      <th>1</th>\n",
       "      <td>4</td>\n",
       "      <td>missing</td>\n",
       "      <td>unknown</td>\n",
       "      <td>Forest fire near La Ronge Sask. Canada</td>\n",
       "      <td>1</td>\n",
       "      <td>38</td>\n",
       "    </tr>\n",
       "    <tr>\n",
       "      <th>2</th>\n",
       "      <td>5</td>\n",
       "      <td>missing</td>\n",
       "      <td>unknown</td>\n",
       "      <td>All residents asked to 'shelter in place' are ...</td>\n",
       "      <td>1</td>\n",
       "      <td>133</td>\n",
       "    </tr>\n",
       "    <tr>\n",
       "      <th>3</th>\n",
       "      <td>6</td>\n",
       "      <td>missing</td>\n",
       "      <td>unknown</td>\n",
       "      <td>13,000 people receive #wildfires evacuation or...</td>\n",
       "      <td>1</td>\n",
       "      <td>65</td>\n",
       "    </tr>\n",
       "    <tr>\n",
       "      <th>4</th>\n",
       "      <td>7</td>\n",
       "      <td>missing</td>\n",
       "      <td>unknown</td>\n",
       "      <td>Just got sent this photo from Ruby #Alaska as ...</td>\n",
       "      <td>1</td>\n",
       "      <td>88</td>\n",
       "    </tr>\n",
       "  </tbody>\n",
       "</table>\n",
       "</div>"
      ],
      "text/plain": [
       "   id  keyword location                                               text  \\\n",
       "0   1  missing  unknown  Our Deeds are the Reason of this #earthquake M...   \n",
       "1   4  missing  unknown             Forest fire near La Ronge Sask. Canada   \n",
       "2   5  missing  unknown  All residents asked to 'shelter in place' are ...   \n",
       "3   6  missing  unknown  13,000 people receive #wildfires evacuation or...   \n",
       "4   7  missing  unknown  Just got sent this photo from Ruby #Alaska as ...   \n",
       "\n",
       "   target  text_length  \n",
       "0       1           69  \n",
       "1       1           38  \n",
       "2       1          133  \n",
       "3       1           65  \n",
       "4       1           88  "
      ]
     },
     "metadata": {},
     "output_type": "display_data"
    },
    {
     "data": {
      "text/html": [
       "<div>\n",
       "<style scoped>\n",
       "    .dataframe tbody tr th:only-of-type {\n",
       "        vertical-align: middle;\n",
       "    }\n",
       "\n",
       "    .dataframe tbody tr th {\n",
       "        vertical-align: top;\n",
       "    }\n",
       "\n",
       "    .dataframe thead th {\n",
       "        text-align: right;\n",
       "    }\n",
       "</style>\n",
       "<table border=\"1\" class=\"dataframe\">\n",
       "  <thead>\n",
       "    <tr style=\"text-align: right;\">\n",
       "      <th></th>\n",
       "      <th>id</th>\n",
       "      <th>keyword</th>\n",
       "      <th>location</th>\n",
       "      <th>text</th>\n",
       "      <th>text_length</th>\n",
       "    </tr>\n",
       "  </thead>\n",
       "  <tbody>\n",
       "    <tr>\n",
       "      <th>0</th>\n",
       "      <td>0</td>\n",
       "      <td>missing</td>\n",
       "      <td>unknown</td>\n",
       "      <td>Just happened a terrible car crash</td>\n",
       "      <td>34</td>\n",
       "    </tr>\n",
       "    <tr>\n",
       "      <th>1</th>\n",
       "      <td>2</td>\n",
       "      <td>missing</td>\n",
       "      <td>unknown</td>\n",
       "      <td>Heard about #earthquake is different cities, s...</td>\n",
       "      <td>64</td>\n",
       "    </tr>\n",
       "    <tr>\n",
       "      <th>2</th>\n",
       "      <td>3</td>\n",
       "      <td>missing</td>\n",
       "      <td>unknown</td>\n",
       "      <td>there is a forest fire at spot pond, geese are...</td>\n",
       "      <td>96</td>\n",
       "    </tr>\n",
       "    <tr>\n",
       "      <th>3</th>\n",
       "      <td>9</td>\n",
       "      <td>missing</td>\n",
       "      <td>unknown</td>\n",
       "      <td>Apocalypse lighting. #Spokane #wildfires</td>\n",
       "      <td>40</td>\n",
       "    </tr>\n",
       "    <tr>\n",
       "      <th>4</th>\n",
       "      <td>11</td>\n",
       "      <td>missing</td>\n",
       "      <td>unknown</td>\n",
       "      <td>Typhoon Soudelor kills 28 in China and Taiwan</td>\n",
       "      <td>45</td>\n",
       "    </tr>\n",
       "  </tbody>\n",
       "</table>\n",
       "</div>"
      ],
      "text/plain": [
       "   id  keyword location                                               text  \\\n",
       "0   0  missing  unknown                 Just happened a terrible car crash   \n",
       "1   2  missing  unknown  Heard about #earthquake is different cities, s...   \n",
       "2   3  missing  unknown  there is a forest fire at spot pond, geese are...   \n",
       "3   9  missing  unknown           Apocalypse lighting. #Spokane #wildfires   \n",
       "4  11  missing  unknown      Typhoon Soudelor kills 28 in China and Taiwan   \n",
       "\n",
       "   text_length  \n",
       "0           34  \n",
       "1           64  \n",
       "2           96  \n",
       "3           40  \n",
       "4           45  "
      ]
     },
     "metadata": {},
     "output_type": "display_data"
    }
   ],
   "source": [
    "# Adding a 'text_length' feature to both train and test datasets\n",
    "train_data['text_length'] = train_data['text'].apply(len)\n",
    "test_data['text_length'] = test_data['text'].apply(len)\n",
    "\n",
    "# Handling missing values\n",
    "# Fill missing 'keyword' values with 'missing' in both train and test datasets\n",
    "train_data['keyword'].fillna('missing', inplace=True)\n",
    "test_data['keyword'].fillna('missing', inplace=True)\n",
    "\n",
    "# Fill missing 'location' values with 'unknown' in both train and test datasets\n",
    "train_data['location'].fillna('unknown', inplace=True)\n",
    "test_data['location'].fillna('unknown', inplace=True)\n",
    "\n",
    "# Display the modified train and test data to confirm changes\n",
    "display(train_data.head())\n",
    "display(test_data.head())"
   ]
  },
  {
   "cell_type": "code",
   "execution_count": 9,
   "id": "ce28f3ab",
   "metadata": {
    "execution": {
     "iopub.execute_input": "2024-11-08T17:33:00.420799Z",
     "iopub.status.busy": "2024-11-08T17:33:00.420324Z",
     "iopub.status.idle": "2024-11-08T17:33:00.536956Z",
     "shell.execute_reply": "2024-11-08T17:33:00.535839Z"
    },
    "papermill": {
     "duration": 0.132865,
     "end_time": "2024-11-08T17:33:00.539551",
     "exception": false,
     "start_time": "2024-11-08T17:33:00.406686",
     "status": "completed"
    },
    "tags": []
   },
   "outputs": [],
   "source": [
    "import re\n",
    "from sklearn.model_selection import train_test_split\n",
    "from sklearn.feature_extraction.text import TfidfVectorizer\n",
    "from scipy.sparse import hstack, csr_matrix\n",
    "from nltk.sentiment.vader import SentimentIntensityAnalyzer\n",
    "\n",
    "# Define a text cleaning function\n",
    "def clean_text(text):\n",
    "    text = text.lower()  # Lowercase text\n",
    "    text = re.sub(r\"http\\S+|www\\S+|https\\S+\", '', text, flags=re.MULTILINE)  # Remove URLs\n",
    "    text = re.sub(r'\\@\\w+|\\#','', text)  # Remove user mentions (@username)\n",
    "    text = re.sub(r'[^\\w\\s]', '', text)  # Remove punctuation\n",
    "    return text\n",
    "\n",
    "# Apply the cleaning function to both train and test data\n",
    "train_data['cleaned_text'] = train_data['text'].apply(clean_text)\n",
    "test_data['cleaned_text'] = test_data['text'].apply(clean_text)\n",
    "\n",
    "# Define X and y for the main dataset\n",
    "X = train_data[['cleaned_text', 'keyword', 'location']]  # Features before full processing\n",
    "y = train_data['target']  # Target variable\n",
    "\n",
    "# Split into training and validation sets\n",
    "X_train, X_val, y_train, y_val = train_test_split(X, y, test_size=0.2, random_state=42)\n"
   ]
  },
  {
   "cell_type": "code",
   "execution_count": 10,
   "id": "a2546ac2",
   "metadata": {
    "execution": {
     "iopub.execute_input": "2024-11-08T17:33:00.564948Z",
     "iopub.status.busy": "2024-11-08T17:33:00.564216Z",
     "iopub.status.idle": "2024-11-08T17:33:00.768774Z",
     "shell.execute_reply": "2024-11-08T17:33:00.767796Z"
    },
    "papermill": {
     "duration": 0.22006,
     "end_time": "2024-11-08T17:33:00.771392",
     "exception": false,
     "start_time": "2024-11-08T17:33:00.551332",
     "status": "completed"
    },
    "tags": []
   },
   "outputs": [],
   "source": [
    "# Initialize TF-IDF vectorizer\n",
    "tfidf = TfidfVectorizer(max_features=500)\n",
    "\n",
    "# Apply TF-IDF transformation on 'cleaned_text' for train, validation, and test\n",
    "X_train_tfidf = tfidf.fit_transform(X_train['cleaned_text'])\n",
    "X_val_tfidf = tfidf.transform(X_val['cleaned_text'])\n",
    "X_test_tfidf = tfidf.transform(test_data['cleaned_text'])\n"
   ]
  },
  {
   "cell_type": "code",
   "execution_count": 11,
   "id": "986a3f63",
   "metadata": {
    "execution": {
     "iopub.execute_input": "2024-11-08T17:33:00.797111Z",
     "iopub.status.busy": "2024-11-08T17:33:00.796710Z",
     "iopub.status.idle": "2024-11-08T17:33:01.467806Z",
     "shell.execute_reply": "2024-11-08T17:33:01.466923Z"
    },
    "papermill": {
     "duration": 0.686951,
     "end_time": "2024-11-08T17:33:01.470390",
     "exception": false,
     "start_time": "2024-11-08T17:33:00.783439",
     "status": "completed"
    },
    "tags": []
   },
   "outputs": [],
   "source": [
    "# One-hot encode 'keyword' and 'location' for each dataset\n",
    "X_train_encoded = pd.get_dummies(X_train[['keyword', 'location']])\n",
    "X_val_encoded = pd.get_dummies(X_val[['keyword', 'location']])\n",
    "X_test_encoded = pd.get_dummies(test_data[['keyword', 'location']])\n",
    "\n",
    "# Ensure all encoded DataFrames have the same columns\n",
    "X_train_encoded, X_val_encoded = X_train_encoded.align(X_val_encoded, join='left', axis=1, fill_value=0)\n",
    "X_train_encoded, X_test_encoded = X_train_encoded.align(X_test_encoded, join='left', axis=1, fill_value=0)\n",
    "\n",
    "# Explicitly convert to int to ensure compatibility for sparse matrix conversion\n",
    "X_train_encoded = X_train_encoded.astype(int)\n",
    "X_val_encoded = X_val_encoded.astype(int)\n",
    "X_test_encoded = X_test_encoded.astype(int)\n",
    "\n",
    "# Convert categorical encodings to sparse matrices\n",
    "X_train_encoded = csr_matrix(X_train_encoded.values)\n",
    "X_val_encoded = csr_matrix(X_val_encoded.values)\n",
    "X_test_encoded = csr_matrix(X_test_encoded.values)\n"
   ]
  },
  {
   "cell_type": "code",
   "execution_count": 12,
   "id": "5928a878",
   "metadata": {
    "execution": {
     "iopub.execute_input": "2024-11-08T17:33:01.495777Z",
     "iopub.status.busy": "2024-11-08T17:33:01.495341Z",
     "iopub.status.idle": "2024-11-08T17:33:01.507506Z",
     "shell.execute_reply": "2024-11-08T17:33:01.506610Z"
    },
    "papermill": {
     "duration": 0.027646,
     "end_time": "2024-11-08T17:33:01.509797",
     "exception": false,
     "start_time": "2024-11-08T17:33:01.482151",
     "status": "completed"
    },
    "tags": []
   },
   "outputs": [],
   "source": [
    "# Add text length feature to each dataset\n",
    "X_train_text_length = csr_matrix(X_train['cleaned_text'].apply(len).values.reshape(-1, 1))\n",
    "X_val_text_length = csr_matrix(X_val['cleaned_text'].apply(len).values.reshape(-1, 1))\n",
    "X_test_text_length = csr_matrix(test_data['cleaned_text'].apply(len).values.reshape(-1, 1))\n"
   ]
  },
  {
   "cell_type": "code",
   "execution_count": 13,
   "id": "b70ed69a",
   "metadata": {
    "execution": {
     "iopub.execute_input": "2024-11-08T17:33:01.535424Z",
     "iopub.status.busy": "2024-11-08T17:33:01.535022Z",
     "iopub.status.idle": "2024-11-08T17:33:03.827576Z",
     "shell.execute_reply": "2024-11-08T17:33:03.826393Z"
    },
    "papermill": {
     "duration": 2.308921,
     "end_time": "2024-11-08T17:33:03.830474",
     "exception": false,
     "start_time": "2024-11-08T17:33:01.521553",
     "status": "completed"
    },
    "tags": []
   },
   "outputs": [],
   "source": [
    "# Initialize VADER sentiment analyzer\n",
    "sia = SentimentIntensityAnalyzer()\n",
    "\n",
    "# Apply VADER sentiment analysis and convert to sparse matrices\n",
    "X_train_sentiment = csr_matrix(X_train['cleaned_text'].apply(lambda text: sia.polarity_scores(text)['compound']).values.reshape(-1, 1))\n",
    "X_val_sentiment = csr_matrix(X_val['cleaned_text'].apply(lambda text: sia.polarity_scores(text)['compound']).values.reshape(-1, 1))\n",
    "X_test_sentiment = csr_matrix(test_data['cleaned_text'].apply(lambda text: sia.polarity_scores(text)['compound']).values.reshape(-1, 1))\n"
   ]
  },
  {
   "cell_type": "code",
   "execution_count": 14,
   "id": "3a938dd9",
   "metadata": {
    "execution": {
     "iopub.execute_input": "2024-11-08T17:33:03.856584Z",
     "iopub.status.busy": "2024-11-08T17:33:03.855631Z",
     "iopub.status.idle": "2024-11-08T17:33:03.866338Z",
     "shell.execute_reply": "2024-11-08T17:33:03.865155Z"
    },
    "papermill": {
     "duration": 0.025964,
     "end_time": "2024-11-08T17:33:03.868449",
     "exception": false,
     "start_time": "2024-11-08T17:33:03.842485",
     "status": "completed"
    },
    "tags": []
   },
   "outputs": [
    {
     "name": "stdout",
     "output_type": "stream",
     "text": [
      "X_train_full shape: (6090, 3496)\n",
      "X_val_full shape: (1523, 3496)\n",
      "X_test_full shape: (3263, 3496)\n"
     ]
    }
   ],
   "source": [
    "# Combine TF-IDF, categorical encodings, text length, and sentiment for each dataset\n",
    "X_train_full = hstack([X_train_tfidf, X_train_encoded, X_train_text_length, X_train_sentiment])\n",
    "X_val_full = hstack([X_val_tfidf, X_val_encoded, X_val_text_length, X_val_sentiment])\n",
    "X_test_full = hstack([X_test_tfidf, X_test_encoded, X_test_text_length, X_test_sentiment])\n",
    "\n",
    "# Print shapes to verify they are consistent\n",
    "print(\"X_train_full shape:\", X_train_full.shape)\n",
    "print(\"X_val_full shape:\", X_val_full.shape)\n",
    "print(\"X_test_full shape:\", X_test_full.shape)\n"
   ]
  },
  {
   "cell_type": "code",
   "execution_count": 15,
   "id": "b59969cd",
   "metadata": {
    "execution": {
     "iopub.execute_input": "2024-11-08T17:33:03.894384Z",
     "iopub.status.busy": "2024-11-08T17:33:03.893380Z",
     "iopub.status.idle": "2024-11-08T17:33:03.903067Z",
     "shell.execute_reply": "2024-11-08T17:33:03.901960Z"
    },
    "papermill": {
     "duration": 0.024854,
     "end_time": "2024-11-08T17:33:03.905205",
     "exception": false,
     "start_time": "2024-11-08T17:33:03.880351",
     "status": "completed"
    },
    "tags": []
   },
   "outputs": [
    {
     "name": "stdout",
     "output_type": "stream",
     "text": [
      "X_train_full shape: (6090, 3496)\n",
      "X_val_full shape: (1523, 3496)\n",
      "X_test_full shape: (3263, 3496)\n"
     ]
    }
   ],
   "source": [
    "# Combine all features directly without using .values for the sparse matrices\n",
    "X_train_full = hstack([X_train_tfidf, X_train_encoded, X_train_text_length, X_train_sentiment])\n",
    "X_val_full = hstack([X_val_tfidf, X_val_encoded, X_val_text_length, X_val_sentiment])\n",
    "X_test_full = hstack([X_test_tfidf, X_test_encoded, X_test_text_length, X_test_sentiment])\n",
    "\n",
    "# Check shapes to confirm consistency\n",
    "print(\"X_train_full shape:\", X_train_full.shape)\n",
    "print(\"X_val_full shape:\", X_val_full.shape)\n",
    "print(\"X_test_full shape:\", X_test_full.shape)\n"
   ]
  },
  {
   "cell_type": "code",
   "execution_count": 16,
   "id": "5e36c975",
   "metadata": {
    "execution": {
     "iopub.execute_input": "2024-11-08T17:33:03.931107Z",
     "iopub.status.busy": "2024-11-08T17:33:03.930675Z",
     "iopub.status.idle": "2024-11-08T17:33:03.936600Z",
     "shell.execute_reply": "2024-11-08T17:33:03.935383Z"
    },
    "papermill": {
     "duration": 0.021651,
     "end_time": "2024-11-08T17:33:03.939006",
     "exception": false,
     "start_time": "2024-11-08T17:33:03.917355",
     "status": "completed"
    },
    "tags": []
   },
   "outputs": [
    {
     "name": "stdout",
     "output_type": "stream",
     "text": [
      "X_train_full shape: (6090, 3496)\n",
      "X_test_full shape: (3263, 3496)\n"
     ]
    }
   ],
   "source": [
    "print(\"X_train_full shape:\", X_train_full.shape)\n",
    "print(\"X_test_full shape:\", X_test_full.shape)\n"
   ]
  },
  {
   "cell_type": "markdown",
   "id": "4a7622e6",
   "metadata": {
    "papermill": {
     "duration": 0.011971,
     "end_time": "2024-11-08T17:33:03.963503",
     "exception": false,
     "start_time": "2024-11-08T17:33:03.951532",
     "status": "completed"
    },
    "tags": []
   },
   "source": [
    "# **Model Training**"
   ]
  },
  {
   "cell_type": "code",
   "execution_count": 17,
   "id": "ffce7e1e",
   "metadata": {
    "execution": {
     "iopub.execute_input": "2024-11-08T17:33:03.990290Z",
     "iopub.status.busy": "2024-11-08T17:33:03.989869Z",
     "iopub.status.idle": "2024-11-08T17:33:12.455747Z",
     "shell.execute_reply": "2024-11-08T17:33:12.454616Z"
    },
    "papermill": {
     "duration": 8.48238,
     "end_time": "2024-11-08T17:33:12.458267",
     "exception": false,
     "start_time": "2024-11-08T17:33:03.975887",
     "status": "completed"
    },
    "tags": []
   },
   "outputs": [
    {
     "name": "stdout",
     "output_type": "stream",
     "text": [
      "0:\tlearn: 0.6790338\ttest: 0.6789285\tbest: 0.6789285 (0)\ttotal: 82.3ms\tremaining: 41s\n",
      "100:\tlearn: 0.4722416\ttest: 0.5170868\tbest: 0.5170868 (100)\ttotal: 2.33s\tremaining: 9.21s\n",
      "200:\tlearn: 0.3863691\ttest: 0.4942149\tbest: 0.4942149 (200)\ttotal: 4.57s\tremaining: 6.8s\n",
      "300:\tlearn: 0.3399119\ttest: 0.4870088\tbest: 0.4858526 (279)\ttotal: 7.26s\tremaining: 4.8s\n",
      "Stopped by overfitting detector  (50 iterations wait)\n",
      "\n",
      "bestTest = 0.4858525757\n",
      "bestIteration = 279\n",
      "\n",
      "Shrink model to first 280 iterations.\n",
      "Classification Report:\n",
      "              precision    recall  f1-score   support\n",
      "\n",
      "           0       0.77      0.87      0.82       874\n",
      "           1       0.79      0.66      0.72       649\n",
      "\n",
      "    accuracy                           0.78      1523\n",
      "   macro avg       0.78      0.76      0.77      1523\n",
      "weighted avg       0.78      0.78      0.77      1523\n",
      "\n",
      "\n",
      "Accuracy Score: 0.778069599474721\n"
     ]
    },
    {
     "data": {
      "image/png": "[encoded data removed]",
      "text/plain": [
       "<Figure size 600x400 with 2 Axes>"
      ]
     },
     "metadata": {},
     "output_type": "display_data"
    }
   ],
   "source": [
    "from catboost import CatBoostClassifier\n",
    "from sklearn.metrics import classification_report, accuracy_score, confusion_matrix\n",
    "import matplotlib.pyplot as plt\n",
    "import seaborn as sns\n",
    "\n",
    "# Initialize CatBoost model\n",
    "model = CatBoostClassifier(iterations=500, learning_rate=0.1, depth=6, verbose=100)\n",
    "\n",
    "# Train the model\n",
    "model.fit(X_train_full, y_train, eval_set=(X_val_full, y_val), early_stopping_rounds=50)\n",
    "\n",
    "# Make predictions\n",
    "y_pred = model.predict(X_val_full)\n",
    "\n",
    "# Evaluation\n",
    "print(\"Classification Report:\")\n",
    "print(classification_report(y_val, y_pred))\n",
    "print(\"\\nAccuracy Score:\", accuracy_score(y_val, y_pred))\n",
    "\n",
    "# Confusion Matrix\n",
    "conf_matrix = confusion_matrix(y_val, y_pred)\n",
    "plt.figure(figsize=(6,4))\n",
    "sns.heatmap(conf_matrix, annot=True, fmt=\"d\", cmap=\"Blues\", xticklabels=['Non-Disaster', 'Disaster'], yticklabels=['Non-Disaster', 'Disaster'])\n",
    "plt.xlabel(\"Predicted\")\n",
    "plt.ylabel(\"Actual\")\n",
    "plt.title(\"Confusion Matrix\")\n",
    "plt.show()\n"
   ]
  },
  {
   "cell_type": "markdown",
   "id": "b7058786",
   "metadata": {
    "papermill": {
     "duration": 0.012584,
     "end_time": "2024-11-08T17:33:12.483978",
     "exception": false,
     "start_time": "2024-11-08T17:33:12.471394",
     "status": "completed"
    },
    "tags": []
   },
   "source": [
    "## Model Training and Evaluation (Baseline Model)\n",
    "\n",
    "### Overview\n",
    "Above you can see a baseline CatBoost model to classify tweets as either disaster-related or non-disaster-related. Our approach combined TF-IDF vectorization on tweet text with additional features from `keyword`, `location`, and `text_length`.\n",
    "\n",
    "### Steps Taken\n",
    "1. **Data Preprocessing**:\n",
    "   - **TF-IDF Vectorization**: I applied TF-IDF (Term Frequency-Inverse Document Frequency) to the `cleaned_text` column, limiting the features to 500 words to capture the most relevant terms without overloading the model.\n",
    "   - **One-Hot Encoding**: The categorical features `keyword` and `location` were one-hot encoded to allow the model to use these features effectively.\n",
    "   - **Text Length**: I calculated the length of each tweet in characters, adding this as an additional feature since disaster-related tweets tend to have slightly different lengths than non-disaster tweets.\n",
    "\n",
    "2. **Model Training**:\n",
    "   - I used **CatBoostClassifier**, a gradient boosting algorithm that handles categorical features effectively.\n",
    "   - The model was trained with a moderate learning rate and depth, stopping early if no improvement was observed to prevent overfitting.\n",
    "\n",
    "3. **Model Evaluation**:\n",
    "   - The model achieved an **accuracy of 77.8%** on the validation set, improving from a previous baseline of 73.4%.\n",
    "   - The **classification report** showed:\n",
    "     - Precision of 78% and recall of 66% for disaster-related tweets.\n",
    "     - Precision of 78% and recall of 87% for non-disaster tweets.\n",
    "\n",
    "### Conclusion\n",
    "This baseline model provides a solid foundation, achieving satisfactory performance by leveraging text-based and categorical features. Future steps will explore advanced techniques, including hyperparameter tuning, sentiment analysis, and more nuanced text processing to further improve classification accuracy.\n"
   ]
  },
  {
   "cell_type": "code",
   "execution_count": 18,
   "id": "fb6f1be3",
   "metadata": {
    "execution": {
     "iopub.execute_input": "2024-11-08T17:33:12.511839Z",
     "iopub.status.busy": "2024-11-08T17:33:12.511414Z",
     "iopub.status.idle": "2024-11-08T17:33:21.690909Z",
     "shell.execute_reply": "2024-11-08T17:33:21.689744Z"
    },
    "papermill": {
     "duration": 9.196199,
     "end_time": "2024-11-08T17:33:21.693350",
     "exception": false,
     "start_time": "2024-11-08T17:33:12.497151",
     "status": "completed"
    },
    "tags": []
   },
   "outputs": [
    {
     "name": "stdout",
     "output_type": "stream",
     "text": [
      "0:\tlearn: 0.6844676\ttest: 0.6842138\tbest: 0.6842138 (0)\ttotal: 19.9ms\tremaining: 19.9s\n",
      "100:\tlearn: 0.5187448\ttest: 0.5478335\tbest: 0.5478335 (100)\ttotal: 1.58s\tremaining: 14.1s\n",
      "200:\tlearn: 0.4465022\ttest: 0.5197823\tbest: 0.5197803 (199)\ttotal: 3.13s\tremaining: 12.5s\n",
      "300:\tlearn: 0.4001181\ttest: 0.5090888\tbest: 0.5086460 (294)\ttotal: 4.68s\tremaining: 10.9s\n",
      "400:\tlearn: 0.3675398\ttest: 0.5044615\tbest: 0.5044615 (400)\ttotal: 6.23s\tremaining: 9.31s\n",
      "500:\tlearn: 0.3430564\ttest: 0.5018444\tbest: 0.5016672 (497)\ttotal: 7.82s\tremaining: 7.79s\n",
      "Stopped by overfitting detector  (50 iterations wait)\n",
      "\n",
      "bestTest = 0.5002310146\n",
      "bestIteration = 521\n",
      "\n",
      "Shrink model to first 522 iterations.\n",
      "Classification Report for Tuned Model:\n",
      "              precision    recall  f1-score   support\n",
      "\n",
      "           0       0.81      0.78      0.79       874\n",
      "           1       0.72      0.75      0.73       649\n",
      "\n",
      "    accuracy                           0.77      1523\n",
      "   macro avg       0.76      0.76      0.76      1523\n",
      "weighted avg       0.77      0.77      0.77      1523\n",
      "\n",
      "\n",
      "Accuracy Score: 0.7669074195666448\n"
     ]
    }
   ],
   "source": [
    "# Define a new CatBoost model with adjusted hyperparameters\n",
    "model_tuned = CatBoostClassifier(\n",
    "    iterations=1000,             # Increase iterations for finer tuning\n",
    "    learning_rate=0.08,          # Lower learning rate for careful learning\n",
    "    depth=5,                     # Adjust depth if needed\n",
    "    l2_leaf_reg=5,               # Regularization to control complexity\n",
    "    scale_pos_weight=1.5,        # Give more weight to disaster tweets\n",
    "    verbose=100\n",
    ")\n",
    "\n",
    "# Fit the model on the training data\n",
    "model_tuned.fit(X_train_full, y_train, eval_set=(X_val_full, y_val), early_stopping_rounds=50)\n",
    "\n",
    "# Make predictions and evaluate\n",
    "y_pred_tuned = model_tuned.predict(X_val_full)\n",
    "print(\"Classification Report for Tuned Model:\")\n",
    "print(classification_report(y_val, y_pred_tuned))\n",
    "print(\"\\nAccuracy Score:\", accuracy_score(y_val, y_pred_tuned))\n"
   ]
  },
  {
   "cell_type": "markdown",
   "id": "1099cb88",
   "metadata": {
    "papermill": {
     "duration": 0.013037,
     "end_time": "2024-11-08T17:33:21.719819",
     "exception": false,
     "start_time": "2024-11-08T17:33:21.706782",
     "status": "completed"
    },
    "tags": []
   },
   "source": [
    "## Model Tuning with CatBoost\n",
    "\n",
    "### Overview\n",
    "To further improve the model’s performance, I tuned the CatBoost model by adjusting key hyperparameters. The goal was to balance learning rate, regularization, and class weights to enhance accuracy and generalization.\n",
    "\n",
    "### Hyperparameters Adjusted\n",
    "- **Iterations**: Set to 1000 for finer tuning and to allow the model more rounds to learn from the data.\n",
    "- **Learning Rate**: Reduced to 0.08 to enable more careful learning, avoiding large jumps in weights.\n",
    "- **Depth**: Maintained at 5 to control the model complexity while capturing sufficient patterns.\n",
    "- **L2 Regularization (`l2_leaf_reg`)**: Set to 5, adding a regularization term to help prevent overfitting by penalizing large weights.\n",
    "- **Class Weight (`scale_pos_weight`)**: Increased to 1.5 to address the slight imbalance in disaster vs. non-disaster tweets by giving higher weight to disaster tweets.\n",
    "\n",
    "### Results\n",
    "After training the tuned model on the training data and evaluating on the validation set:\n",
    "- The accuracy and classification metrics were compared to the baseline model to check for improvements.\n",
    "- **Classification Report**: The precision, recall, and F1-scores were analyzed to assess performance across disaster and non-disaster tweets.\n",
    "- **Accuracy Score**: Calculated for the tuned model to observe any gains in performance.\n",
    "\n",
    "\n"
   ]
  },
  {
   "cell_type": "code",
   "execution_count": 19,
   "id": "ac406df0",
   "metadata": {
    "execution": {
     "iopub.execute_input": "2024-11-08T17:33:21.748458Z",
     "iopub.status.busy": "2024-11-08T17:33:21.748029Z",
     "iopub.status.idle": "2024-11-08T17:33:22.586663Z",
     "shell.execute_reply": "2024-11-08T17:33:22.585206Z"
    },
    "papermill": {
     "duration": 0.855842,
     "end_time": "2024-11-08T17:33:22.589148",
     "exception": false,
     "start_time": "2024-11-08T17:33:21.733306",
     "status": "completed"
    },
    "tags": []
   },
   "outputs": [
    {
     "name": "stdout",
     "output_type": "stream",
     "text": [
      "Classification Report for Logistic Regression:\n",
      "              precision    recall  f1-score   support\n",
      "\n",
      "           0       0.80      0.85      0.83       874\n",
      "           1       0.78      0.72      0.75       649\n",
      "\n",
      "    accuracy                           0.80      1523\n",
      "   macro avg       0.79      0.79      0.79      1523\n",
      "weighted avg       0.80      0.80      0.79      1523\n",
      "\n",
      "\n",
      "Accuracy Score: 0.7957977675640184\n"
     ]
    }
   ],
   "source": [
    "from sklearn.linear_model import LogisticRegression\n",
    "\n",
    "# Initialize logistic regression model with regularization\n",
    "lr_model = LogisticRegression(C=1.0, max_iter=1000)\n",
    "\n",
    "# Fit the model on TF-IDF features\n",
    "lr_model.fit(X_train_full, y_train)\n",
    "\n",
    "# Evaluate\n",
    "y_pred_lr = lr_model.predict(X_val_full)\n",
    "print(\"Classification Report for Logistic Regression:\")\n",
    "print(classification_report(y_val, y_pred_lr))\n",
    "print(\"\\nAccuracy Score:\", accuracy_score(y_val, y_pred_lr))\n"
   ]
  },
  {
   "cell_type": "code",
   "execution_count": 20,
   "id": "9a7e6789",
   "metadata": {
    "execution": {
     "iopub.execute_input": "2024-11-08T17:33:22.617856Z",
     "iopub.status.busy": "2024-11-08T17:33:22.617417Z",
     "iopub.status.idle": "2024-11-08T17:33:24.873353Z",
     "shell.execute_reply": "2024-11-08T17:33:24.871875Z"
    },
    "papermill": {
     "duration": 2.273465,
     "end_time": "2024-11-08T17:33:24.876231",
     "exception": false,
     "start_time": "2024-11-08T17:33:22.602766",
     "status": "completed"
    },
    "tags": []
   },
   "outputs": [],
   "source": [
    "from sklearn.model_selection import GridSearchCV\n",
    "\n",
    "import os\n",
    "os.environ[\"TOKENIZERS_PARALLELISM\"] = \"false\"\n",
    "\n",
    "\n",
    "# Define the parameter grid\n",
    "param_grid = {'C': [0.1, 1, 10], 'penalty': ['l2'], 'solver': ['liblinear']}\n",
    "lr = LogisticRegression(max_iter=1000)\n",
    "grid_search = GridSearchCV(lr, param_grid, cv=5, scoring='accuracy', n_jobs=-1)\n",
    "grid_search.fit(X_train_full, y_train)\n",
    "\n",
    "# Set the best model from GridSearchCV\n",
    "best_lr_model = grid_search.best_estimator_\n"
   ]
  },
  {
   "cell_type": "markdown",
   "id": "233168bf",
   "metadata": {
    "papermill": {
     "duration": 0.013369,
     "end_time": "2024-11-08T17:33:24.903891",
     "exception": false,
     "start_time": "2024-11-08T17:33:24.890522",
     "status": "completed"
    },
    "tags": []
   },
   "source": [
    "## Logistic Regression Model with TF-IDF Features\n",
    "\n",
    "### Overview\n",
    "I applied Logistic Regression to classify disaster and non-disaster tweets. Logistic Regression is a simple yet effective algorithm for text data, especially when combined with TF-IDF features.\n",
    "\n",
    "### Model Configuration\n",
    "- **TF-IDF Features**: I used TF-IDF (Term Frequency-Inverse Document Frequency) to transform the tweet text into a feature set. This transformation captured word relevance within tweets, enabling the model to identify important patterns for disaster classification.\n",
    "- **Regularization Parameter (`C`)**: The default regularization was applied to balance model complexity and performance.\n",
    "\n",
    "### Results\n",
    "The Logistic Regression model showed the following results:\n",
    "- **Accuracy**: Achieved an accuracy of 79.7% on the validation set, a slight improvement over the CatBoost model.\n",
    "- **Classification Report**:\n",
    "   - **Non-Disaster Tweets (0)**: Precision of 80% and recall of 85%, showing strong performance in identifying non-disaster tweets.\n",
    "   - **Disaster Tweets (1)**: Precision of 79% and recall of 72%, indicating effective but slightly lower sensitivity for disaster tweets.\n",
    "- **Balanced Performance**: The model demonstrated balanced accuracy and F1-scores across both classes.\n",
    "\n"
   ]
  },
  {
   "cell_type": "code",
   "execution_count": 21,
   "id": "18d0bf00",
   "metadata": {
    "execution": {
     "iopub.execute_input": "2024-11-08T17:33:24.933192Z",
     "iopub.status.busy": "2024-11-08T17:33:24.932728Z",
     "iopub.status.idle": "2024-11-08T17:33:50.779179Z",
     "shell.execute_reply": "2024-11-08T17:33:50.777911Z"
    },
    "papermill": {
     "duration": 25.864007,
     "end_time": "2024-11-08T17:33:50.781721",
     "exception": false,
     "start_time": "2024-11-08T17:33:24.917714",
     "status": "completed"
    },
    "tags": []
   },
   "outputs": [
    {
     "name": "stdout",
     "output_type": "stream",
     "text": [
      "[0]\tvalidation_0-logloss:0.66914\n",
      "[1]\tvalidation_0-logloss:0.65688\n"
     ]
    },
    {
     "name": "stderr",
     "output_type": "stream",
     "text": [
      "/opt/conda/lib/python3.10/site-packages/xgboost/sklearn.py:889: UserWarning: `early_stopping_rounds` in `fit` method is deprecated for better compatibility with scikit-learn, use `early_stopping_rounds` in constructor or`set_params` instead.\n",
      "  warnings.warn(\n"
     ]
    },
    {
     "name": "stdout",
     "output_type": "stream",
     "text": [
      "[2]\tvalidation_0-logloss:0.64746\n",
      "[3]\tvalidation_0-logloss:0.63876\n",
      "[4]\tvalidation_0-logloss:0.63145\n",
      "[5]\tvalidation_0-logloss:0.62389\n",
      "[6]\tvalidation_0-logloss:0.61867\n",
      "[7]\tvalidation_0-logloss:0.61316\n",
      "[8]\tvalidation_0-logloss:0.60772\n",
      "[9]\tvalidation_0-logloss:0.60269\n",
      "[10]\tvalidation_0-logloss:0.59818\n",
      "[11]\tvalidation_0-logloss:0.59496\n",
      "[12]\tvalidation_0-logloss:0.59156\n",
      "[13]\tvalidation_0-logloss:0.58905\n",
      "[14]\tvalidation_0-logloss:0.58627\n",
      "[15]\tvalidation_0-logloss:0.58383\n",
      "[16]\tvalidation_0-logloss:0.58090\n",
      "[17]\tvalidation_0-logloss:0.57816\n",
      "[18]\tvalidation_0-logloss:0.57577\n",
      "[19]\tvalidation_0-logloss:0.57330\n",
      "[20]\tvalidation_0-logloss:0.57183\n",
      "[21]\tvalidation_0-logloss:0.57018\n",
      "[22]\tvalidation_0-logloss:0.56834\n",
      "[23]\tvalidation_0-logloss:0.56713\n",
      "[24]\tvalidation_0-logloss:0.56563\n",
      "[25]\tvalidation_0-logloss:0.56398\n",
      "[26]\tvalidation_0-logloss:0.56238\n",
      "[27]\tvalidation_0-logloss:0.56106\n",
      "[28]\tvalidation_0-logloss:0.55961\n",
      "[29]\tvalidation_0-logloss:0.55823\n",
      "[30]\tvalidation_0-logloss:0.55736\n",
      "[31]\tvalidation_0-logloss:0.55642\n",
      "[32]\tvalidation_0-logloss:0.55540\n",
      "[33]\tvalidation_0-logloss:0.55459\n",
      "[34]\tvalidation_0-logloss:0.55337\n",
      "[35]\tvalidation_0-logloss:0.55200\n",
      "[36]\tvalidation_0-logloss:0.55090\n",
      "[37]\tvalidation_0-logloss:0.55024\n",
      "[38]\tvalidation_0-logloss:0.54911\n",
      "[39]\tvalidation_0-logloss:0.54810\n",
      "[40]\tvalidation_0-logloss:0.54714\n",
      "[41]\tvalidation_0-logloss:0.54618\n",
      "[42]\tvalidation_0-logloss:0.54496\n",
      "[43]\tvalidation_0-logloss:0.54441\n",
      "[44]\tvalidation_0-logloss:0.54370\n",
      "[45]\tvalidation_0-logloss:0.54307\n",
      "[46]\tvalidation_0-logloss:0.54199\n",
      "[47]\tvalidation_0-logloss:0.54105\n",
      "[48]\tvalidation_0-logloss:0.54035\n",
      "[49]\tvalidation_0-logloss:0.53982\n",
      "[50]\tvalidation_0-logloss:0.53929\n",
      "[51]\tvalidation_0-logloss:0.53890\n",
      "[52]\tvalidation_0-logloss:0.53779\n",
      "[53]\tvalidation_0-logloss:0.53753\n",
      "[54]\tvalidation_0-logloss:0.53656\n",
      "[55]\tvalidation_0-logloss:0.53528\n",
      "[56]\tvalidation_0-logloss:0.53538\n",
      "[57]\tvalidation_0-logloss:0.53477\n",
      "[58]\tvalidation_0-logloss:0.53415\n",
      "[59]\tvalidation_0-logloss:0.53381\n",
      "[60]\tvalidation_0-logloss:0.53332\n",
      "[61]\tvalidation_0-logloss:0.53299\n",
      "[62]\tvalidation_0-logloss:0.53261\n",
      "[63]\tvalidation_0-logloss:0.53196\n",
      "[64]\tvalidation_0-logloss:0.53133\n",
      "[65]\tvalidation_0-logloss:0.53045\n",
      "[66]\tvalidation_0-logloss:0.52993\n",
      "[67]\tvalidation_0-logloss:0.52952\n",
      "[68]\tvalidation_0-logloss:0.52914\n",
      "[69]\tvalidation_0-logloss:0.52838\n",
      "[70]\tvalidation_0-logloss:0.52749\n",
      "[71]\tvalidation_0-logloss:0.52716\n",
      "[72]\tvalidation_0-logloss:0.52635\n",
      "[73]\tvalidation_0-logloss:0.52582\n",
      "[74]\tvalidation_0-logloss:0.52586\n",
      "[75]\tvalidation_0-logloss:0.52506\n",
      "[76]\tvalidation_0-logloss:0.52500\n",
      "[77]\tvalidation_0-logloss:0.52452\n",
      "[78]\tvalidation_0-logloss:0.52410\n",
      "[79]\tvalidation_0-logloss:0.52381\n",
      "[80]\tvalidation_0-logloss:0.52289\n",
      "[81]\tvalidation_0-logloss:0.52238\n",
      "[82]\tvalidation_0-logloss:0.52200\n",
      "[83]\tvalidation_0-logloss:0.52187\n",
      "[84]\tvalidation_0-logloss:0.52166\n",
      "[85]\tvalidation_0-logloss:0.52123\n",
      "[86]\tvalidation_0-logloss:0.52059\n",
      "[87]\tvalidation_0-logloss:0.51998\n",
      "[88]\tvalidation_0-logloss:0.51975\n",
      "[89]\tvalidation_0-logloss:0.51963\n",
      "[90]\tvalidation_0-logloss:0.51910\n",
      "[91]\tvalidation_0-logloss:0.51896\n",
      "[92]\tvalidation_0-logloss:0.51857\n",
      "[93]\tvalidation_0-logloss:0.51812\n",
      "[94]\tvalidation_0-logloss:0.51767\n",
      "[95]\tvalidation_0-logloss:0.51738\n",
      "[96]\tvalidation_0-logloss:0.51672\n",
      "[97]\tvalidation_0-logloss:0.51598\n",
      "[98]\tvalidation_0-logloss:0.51572\n",
      "[99]\tvalidation_0-logloss:0.51547\n",
      "[100]\tvalidation_0-logloss:0.51522\n",
      "[101]\tvalidation_0-logloss:0.51477\n",
      "[102]\tvalidation_0-logloss:0.51415\n",
      "[103]\tvalidation_0-logloss:0.51430\n",
      "[104]\tvalidation_0-logloss:0.51357\n",
      "[105]\tvalidation_0-logloss:0.51342\n",
      "[106]\tvalidation_0-logloss:0.51340\n",
      "[107]\tvalidation_0-logloss:0.51308\n",
      "[108]\tvalidation_0-logloss:0.51286\n",
      "[109]\tvalidation_0-logloss:0.51256\n",
      "[110]\tvalidation_0-logloss:0.51190\n",
      "[111]\tvalidation_0-logloss:0.51153\n",
      "[112]\tvalidation_0-logloss:0.51145\n",
      "[113]\tvalidation_0-logloss:0.51085\n",
      "[114]\tvalidation_0-logloss:0.51049\n",
      "[115]\tvalidation_0-logloss:0.51046\n",
      "[116]\tvalidation_0-logloss:0.50982\n",
      "[117]\tvalidation_0-logloss:0.50949\n",
      "[118]\tvalidation_0-logloss:0.50936\n",
      "[119]\tvalidation_0-logloss:0.50903\n",
      "[120]\tvalidation_0-logloss:0.50906\n",
      "[121]\tvalidation_0-logloss:0.50870\n",
      "[122]\tvalidation_0-logloss:0.50821\n",
      "[123]\tvalidation_0-logloss:0.50816\n",
      "[124]\tvalidation_0-logloss:0.50770\n",
      "[125]\tvalidation_0-logloss:0.50737\n",
      "[126]\tvalidation_0-logloss:0.50709\n",
      "[127]\tvalidation_0-logloss:0.50705\n",
      "[128]\tvalidation_0-logloss:0.50698\n",
      "[129]\tvalidation_0-logloss:0.50681\n",
      "[130]\tvalidation_0-logloss:0.50671\n",
      "[131]\tvalidation_0-logloss:0.50639\n",
      "[132]\tvalidation_0-logloss:0.50615\n",
      "[133]\tvalidation_0-logloss:0.50590\n",
      "[134]\tvalidation_0-logloss:0.50581\n",
      "[135]\tvalidation_0-logloss:0.50572\n",
      "[136]\tvalidation_0-logloss:0.50545\n",
      "[137]\tvalidation_0-logloss:0.50523\n",
      "[138]\tvalidation_0-logloss:0.50493\n",
      "[139]\tvalidation_0-logloss:0.50446\n",
      "[140]\tvalidation_0-logloss:0.50457\n",
      "[141]\tvalidation_0-logloss:0.50428\n",
      "[142]\tvalidation_0-logloss:0.50419\n",
      "[143]\tvalidation_0-logloss:0.50415\n",
      "[144]\tvalidation_0-logloss:0.50407\n",
      "[145]\tvalidation_0-logloss:0.50377\n",
      "[146]\tvalidation_0-logloss:0.50358\n",
      "[147]\tvalidation_0-logloss:0.50340\n",
      "[148]\tvalidation_0-logloss:0.50331\n",
      "[149]\tvalidation_0-logloss:0.50297\n",
      "[150]\tvalidation_0-logloss:0.50266\n",
      "[151]\tvalidation_0-logloss:0.50257\n",
      "[152]\tvalidation_0-logloss:0.50232\n",
      "[153]\tvalidation_0-logloss:0.50214\n",
      "[154]\tvalidation_0-logloss:0.50202\n",
      "[155]\tvalidation_0-logloss:0.50166\n",
      "[156]\tvalidation_0-logloss:0.50137\n",
      "[157]\tvalidation_0-logloss:0.50129\n",
      "[158]\tvalidation_0-logloss:0.50098\n",
      "[159]\tvalidation_0-logloss:0.50058\n",
      "[160]\tvalidation_0-logloss:0.50039\n",
      "[161]\tvalidation_0-logloss:0.50021\n",
      "[162]\tvalidation_0-logloss:0.50009\n",
      "[163]\tvalidation_0-logloss:0.50002\n",
      "[164]\tvalidation_0-logloss:0.49977\n",
      "[165]\tvalidation_0-logloss:0.49948\n",
      "[166]\tvalidation_0-logloss:0.49893\n",
      "[167]\tvalidation_0-logloss:0.49882\n",
      "[168]\tvalidation_0-logloss:0.49861\n",
      "[169]\tvalidation_0-logloss:0.49856\n",
      "[170]\tvalidation_0-logloss:0.49821\n",
      "[171]\tvalidation_0-logloss:0.49811\n",
      "[172]\tvalidation_0-logloss:0.49806\n",
      "[173]\tvalidation_0-logloss:0.49805\n",
      "[174]\tvalidation_0-logloss:0.49755\n",
      "[175]\tvalidation_0-logloss:0.49739\n",
      "[176]\tvalidation_0-logloss:0.49723\n",
      "[177]\tvalidation_0-logloss:0.49705\n",
      "[178]\tvalidation_0-logloss:0.49711\n",
      "[179]\tvalidation_0-logloss:0.49693\n",
      "[180]\tvalidation_0-logloss:0.49667\n",
      "[181]\tvalidation_0-logloss:0.49651\n",
      "[182]\tvalidation_0-logloss:0.49632\n",
      "[183]\tvalidation_0-logloss:0.49662\n",
      "[184]\tvalidation_0-logloss:0.49641\n",
      "[185]\tvalidation_0-logloss:0.49629\n",
      "[186]\tvalidation_0-logloss:0.49619\n",
      "[187]\tvalidation_0-logloss:0.49598\n",
      "[188]\tvalidation_0-logloss:0.49572\n",
      "[189]\tvalidation_0-logloss:0.49554\n",
      "[190]\tvalidation_0-logloss:0.49561\n",
      "[191]\tvalidation_0-logloss:0.49529\n",
      "[192]\tvalidation_0-logloss:0.49524\n",
      "[193]\tvalidation_0-logloss:0.49522\n",
      "[194]\tvalidation_0-logloss:0.49517\n",
      "[195]\tvalidation_0-logloss:0.49527\n",
      "[196]\tvalidation_0-logloss:0.49524\n",
      "[197]\tvalidation_0-logloss:0.49505\n",
      "[198]\tvalidation_0-logloss:0.49543\n",
      "[199]\tvalidation_0-logloss:0.49521\n",
      "[200]\tvalidation_0-logloss:0.49499\n",
      "[201]\tvalidation_0-logloss:0.49496\n",
      "[202]\tvalidation_0-logloss:0.49477\n",
      "[203]\tvalidation_0-logloss:0.49474\n",
      "[204]\tvalidation_0-logloss:0.49482\n",
      "[205]\tvalidation_0-logloss:0.49459\n",
      "[206]\tvalidation_0-logloss:0.49452\n",
      "[207]\tvalidation_0-logloss:0.49448\n",
      "[208]\tvalidation_0-logloss:0.49442\n",
      "[209]\tvalidation_0-logloss:0.49438\n",
      "[210]\tvalidation_0-logloss:0.49397\n",
      "[211]\tvalidation_0-logloss:0.49379\n",
      "[212]\tvalidation_0-logloss:0.49326\n",
      "[213]\tvalidation_0-logloss:0.49263\n",
      "[214]\tvalidation_0-logloss:0.49230\n",
      "[215]\tvalidation_0-logloss:0.49192\n",
      "[216]\tvalidation_0-logloss:0.49182\n",
      "[217]\tvalidation_0-logloss:0.49177\n",
      "[218]\tvalidation_0-logloss:0.49184\n",
      "[219]\tvalidation_0-logloss:0.49195\n",
      "[220]\tvalidation_0-logloss:0.49169\n",
      "[221]\tvalidation_0-logloss:0.49163\n",
      "[222]\tvalidation_0-logloss:0.49181\n",
      "[223]\tvalidation_0-logloss:0.49164\n",
      "[224]\tvalidation_0-logloss:0.49143\n",
      "[225]\tvalidation_0-logloss:0.49119\n",
      "[226]\tvalidation_0-logloss:0.49112\n",
      "[227]\tvalidation_0-logloss:0.49116\n",
      "[228]\tvalidation_0-logloss:0.49113\n",
      "[229]\tvalidation_0-logloss:0.49136\n",
      "[230]\tvalidation_0-logloss:0.49149\n",
      "[231]\tvalidation_0-logloss:0.49139\n",
      "[232]\tvalidation_0-logloss:0.49138\n",
      "[233]\tvalidation_0-logloss:0.49138\n",
      "[234]\tvalidation_0-logloss:0.49148\n",
      "[235]\tvalidation_0-logloss:0.49135\n",
      "[236]\tvalidation_0-logloss:0.49116\n",
      "[237]\tvalidation_0-logloss:0.49084\n",
      "[238]\tvalidation_0-logloss:0.49083\n",
      "[239]\tvalidation_0-logloss:0.49074\n",
      "[240]\tvalidation_0-logloss:0.49054\n",
      "[241]\tvalidation_0-logloss:0.49049\n",
      "[242]\tvalidation_0-logloss:0.49045\n",
      "[243]\tvalidation_0-logloss:0.49026\n",
      "[244]\tvalidation_0-logloss:0.49011\n",
      "[245]\tvalidation_0-logloss:0.48989\n",
      "[246]\tvalidation_0-logloss:0.48972\n",
      "[247]\tvalidation_0-logloss:0.48966\n",
      "[248]\tvalidation_0-logloss:0.48963\n",
      "[249]\tvalidation_0-logloss:0.48971\n",
      "[250]\tvalidation_0-logloss:0.48991\n",
      "[251]\tvalidation_0-logloss:0.48985\n",
      "[252]\tvalidation_0-logloss:0.48975\n",
      "[253]\tvalidation_0-logloss:0.48953\n",
      "[254]\tvalidation_0-logloss:0.48967\n",
      "[255]\tvalidation_0-logloss:0.48938\n",
      "[256]\tvalidation_0-logloss:0.48957\n",
      "[257]\tvalidation_0-logloss:0.48949\n",
      "[258]\tvalidation_0-logloss:0.48934\n",
      "[259]\tvalidation_0-logloss:0.48928\n",
      "[260]\tvalidation_0-logloss:0.48902\n",
      "[261]\tvalidation_0-logloss:0.48906\n",
      "[262]\tvalidation_0-logloss:0.48890\n",
      "[263]\tvalidation_0-logloss:0.48900\n",
      "[264]\tvalidation_0-logloss:0.48893\n",
      "[265]\tvalidation_0-logloss:0.48915\n",
      "[266]\tvalidation_0-logloss:0.48901\n",
      "[267]\tvalidation_0-logloss:0.48900\n",
      "[268]\tvalidation_0-logloss:0.48909\n",
      "[269]\tvalidation_0-logloss:0.48897\n",
      "[270]\tvalidation_0-logloss:0.48873\n",
      "[271]\tvalidation_0-logloss:0.48883\n",
      "[272]\tvalidation_0-logloss:0.48861\n",
      "[273]\tvalidation_0-logloss:0.48854\n",
      "[274]\tvalidation_0-logloss:0.48850\n",
      "[275]\tvalidation_0-logloss:0.48857\n",
      "[276]\tvalidation_0-logloss:0.48841\n",
      "[277]\tvalidation_0-logloss:0.48817\n",
      "[278]\tvalidation_0-logloss:0.48824\n",
      "[279]\tvalidation_0-logloss:0.48819\n",
      "[280]\tvalidation_0-logloss:0.48820\n",
      "[281]\tvalidation_0-logloss:0.48823\n",
      "[282]\tvalidation_0-logloss:0.48798\n",
      "[283]\tvalidation_0-logloss:0.48838\n",
      "[284]\tvalidation_0-logloss:0.48808\n",
      "[285]\tvalidation_0-logloss:0.48824\n",
      "[286]\tvalidation_0-logloss:0.48832\n",
      "[287]\tvalidation_0-logloss:0.48832\n",
      "[288]\tvalidation_0-logloss:0.48824\n",
      "[289]\tvalidation_0-logloss:0.48804\n",
      "[290]\tvalidation_0-logloss:0.48789\n",
      "[291]\tvalidation_0-logloss:0.48793\n",
      "[292]\tvalidation_0-logloss:0.48790\n",
      "[293]\tvalidation_0-logloss:0.48802\n",
      "[294]\tvalidation_0-logloss:0.48798\n",
      "[295]\tvalidation_0-logloss:0.48826\n",
      "[296]\tvalidation_0-logloss:0.48806\n",
      "[297]\tvalidation_0-logloss:0.48796\n",
      "[298]\tvalidation_0-logloss:0.48789\n",
      "[299]\tvalidation_0-logloss:0.48806\n",
      "[300]\tvalidation_0-logloss:0.48804\n",
      "[301]\tvalidation_0-logloss:0.48823\n",
      "[302]\tvalidation_0-logloss:0.48806\n",
      "[303]\tvalidation_0-logloss:0.48777\n",
      "[304]\tvalidation_0-logloss:0.48762\n",
      "[305]\tvalidation_0-logloss:0.48742\n",
      "[306]\tvalidation_0-logloss:0.48746\n",
      "[307]\tvalidation_0-logloss:0.48726\n",
      "[308]\tvalidation_0-logloss:0.48729\n",
      "[309]\tvalidation_0-logloss:0.48721\n",
      "[310]\tvalidation_0-logloss:0.48721\n",
      "[311]\tvalidation_0-logloss:0.48708\n",
      "[312]\tvalidation_0-logloss:0.48747\n",
      "[313]\tvalidation_0-logloss:0.48758\n",
      "[314]\tvalidation_0-logloss:0.48756\n",
      "[315]\tvalidation_0-logloss:0.48756\n",
      "[316]\tvalidation_0-logloss:0.48756\n",
      "[317]\tvalidation_0-logloss:0.48775\n",
      "[318]\tvalidation_0-logloss:0.48770\n",
      "[319]\tvalidation_0-logloss:0.48785\n",
      "[320]\tvalidation_0-logloss:0.48770\n",
      "[321]\tvalidation_0-logloss:0.48761\n",
      "[322]\tvalidation_0-logloss:0.48761\n",
      "[323]\tvalidation_0-logloss:0.48756\n",
      "[324]\tvalidation_0-logloss:0.48757\n",
      "[325]\tvalidation_0-logloss:0.48752\n",
      "[326]\tvalidation_0-logloss:0.48753\n",
      "[327]\tvalidation_0-logloss:0.48756\n",
      "[328]\tvalidation_0-logloss:0.48748\n",
      "[329]\tvalidation_0-logloss:0.48742\n",
      "[330]\tvalidation_0-logloss:0.48769\n",
      "[331]\tvalidation_0-logloss:0.48769\n",
      "[332]\tvalidation_0-logloss:0.48757\n",
      "[333]\tvalidation_0-logloss:0.48753\n",
      "[334]\tvalidation_0-logloss:0.48759\n",
      "[335]\tvalidation_0-logloss:0.48726\n",
      "[336]\tvalidation_0-logloss:0.48725\n",
      "[337]\tvalidation_0-logloss:0.48762\n",
      "[338]\tvalidation_0-logloss:0.48743\n",
      "[339]\tvalidation_0-logloss:0.48743\n",
      "[340]\tvalidation_0-logloss:0.48748\n",
      "[341]\tvalidation_0-logloss:0.48762\n",
      "[342]\tvalidation_0-logloss:0.48749\n",
      "[343]\tvalidation_0-logloss:0.48742\n",
      "[344]\tvalidation_0-logloss:0.48763\n",
      "[345]\tvalidation_0-logloss:0.48736\n",
      "[346]\tvalidation_0-logloss:0.48752\n",
      "[347]\tvalidation_0-logloss:0.48750\n",
      "[348]\tvalidation_0-logloss:0.48746\n",
      "[349]\tvalidation_0-logloss:0.48748\n",
      "[350]\tvalidation_0-logloss:0.48729\n",
      "[351]\tvalidation_0-logloss:0.48730\n",
      "[352]\tvalidation_0-logloss:0.48679\n",
      "[353]\tvalidation_0-logloss:0.48677\n",
      "[354]\tvalidation_0-logloss:0.48696\n",
      "[355]\tvalidation_0-logloss:0.48691\n",
      "[356]\tvalidation_0-logloss:0.48695\n",
      "[357]\tvalidation_0-logloss:0.48681\n",
      "[358]\tvalidation_0-logloss:0.48674\n",
      "[359]\tvalidation_0-logloss:0.48683\n",
      "[360]\tvalidation_0-logloss:0.48678\n",
      "[361]\tvalidation_0-logloss:0.48675\n",
      "[362]\tvalidation_0-logloss:0.48688\n",
      "[363]\tvalidation_0-logloss:0.48667\n",
      "[364]\tvalidation_0-logloss:0.48660\n",
      "[365]\tvalidation_0-logloss:0.48639\n",
      "[366]\tvalidation_0-logloss:0.48629\n",
      "[367]\tvalidation_0-logloss:0.48632\n",
      "[368]\tvalidation_0-logloss:0.48637\n",
      "[369]\tvalidation_0-logloss:0.48628\n",
      "[370]\tvalidation_0-logloss:0.48630\n",
      "[371]\tvalidation_0-logloss:0.48627\n",
      "[372]\tvalidation_0-logloss:0.48642\n",
      "[373]\tvalidation_0-logloss:0.48639\n",
      "[374]\tvalidation_0-logloss:0.48641\n",
      "[375]\tvalidation_0-logloss:0.48612\n",
      "[376]\tvalidation_0-logloss:0.48610\n",
      "[377]\tvalidation_0-logloss:0.48609\n",
      "[378]\tvalidation_0-logloss:0.48598\n",
      "[379]\tvalidation_0-logloss:0.48595\n",
      "[380]\tvalidation_0-logloss:0.48606\n",
      "[381]\tvalidation_0-logloss:0.48619\n",
      "[382]\tvalidation_0-logloss:0.48615\n",
      "[383]\tvalidation_0-logloss:0.48594\n",
      "[384]\tvalidation_0-logloss:0.48601\n",
      "[385]\tvalidation_0-logloss:0.48620\n",
      "[386]\tvalidation_0-logloss:0.48619\n",
      "[387]\tvalidation_0-logloss:0.48608\n",
      "[388]\tvalidation_0-logloss:0.48615\n",
      "[389]\tvalidation_0-logloss:0.48640\n",
      "[390]\tvalidation_0-logloss:0.48695\n",
      "[391]\tvalidation_0-logloss:0.48708\n",
      "[392]\tvalidation_0-logloss:0.48728\n",
      "[393]\tvalidation_0-logloss:0.48709\n",
      "[394]\tvalidation_0-logloss:0.48703\n",
      "[395]\tvalidation_0-logloss:0.48693\n",
      "[396]\tvalidation_0-logloss:0.48691\n",
      "[397]\tvalidation_0-logloss:0.48681\n",
      "[398]\tvalidation_0-logloss:0.48682\n",
      "[399]\tvalidation_0-logloss:0.48677\n",
      "[400]\tvalidation_0-logloss:0.48667\n",
      "[401]\tvalidation_0-logloss:0.48685\n",
      "[402]\tvalidation_0-logloss:0.48676\n",
      "[403]\tvalidation_0-logloss:0.48651\n",
      "[404]\tvalidation_0-logloss:0.48658\n",
      "[405]\tvalidation_0-logloss:0.48645\n",
      "[406]\tvalidation_0-logloss:0.48645\n",
      "[407]\tvalidation_0-logloss:0.48644\n",
      "[408]\tvalidation_0-logloss:0.48643\n",
      "[409]\tvalidation_0-logloss:0.48622\n",
      "[410]\tvalidation_0-logloss:0.48618\n",
      "[411]\tvalidation_0-logloss:0.48609\n",
      "[412]\tvalidation_0-logloss:0.48601\n",
      "[413]\tvalidation_0-logloss:0.48621\n",
      "[414]\tvalidation_0-logloss:0.48624\n",
      "[415]\tvalidation_0-logloss:0.48607\n",
      "[416]\tvalidation_0-logloss:0.48619\n",
      "[417]\tvalidation_0-logloss:0.48623\n",
      "[418]\tvalidation_0-logloss:0.48624\n",
      "[419]\tvalidation_0-logloss:0.48632\n",
      "[420]\tvalidation_0-logloss:0.48631\n",
      "[421]\tvalidation_0-logloss:0.48639\n",
      "[422]\tvalidation_0-logloss:0.48658\n",
      "[423]\tvalidation_0-logloss:0.48658\n",
      "[424]\tvalidation_0-logloss:0.48662\n",
      "[425]\tvalidation_0-logloss:0.48686\n",
      "[426]\tvalidation_0-logloss:0.48677\n",
      "[427]\tvalidation_0-logloss:0.48671\n",
      "[428]\tvalidation_0-logloss:0.48671\n",
      "[429]\tvalidation_0-logloss:0.48666\n",
      "[430]\tvalidation_0-logloss:0.48682\n",
      "[431]\tvalidation_0-logloss:0.48664\n",
      "[432]\tvalidation_0-logloss:0.48645\n",
      "Classification Report for XGBoost:\n",
      "              precision    recall  f1-score   support\n",
      "\n",
      "           0       0.78      0.87      0.82       874\n",
      "           1       0.79      0.67      0.72       649\n",
      "\n",
      "    accuracy                           0.78      1523\n",
      "   macro avg       0.78      0.77      0.77      1523\n",
      "weighted avg       0.78      0.78      0.78      1523\n",
      "\n",
      "\n",
      "Accuracy Score: 0.7813525935653316\n"
     ]
    }
   ],
   "source": [
    "from xgboost import XGBClassifier\n",
    "from sklearn.metrics import classification_report, accuracy_score\n",
    "\n",
    "# Initialize XGBoost model\n",
    "xgb_model = XGBClassifier(n_estimators=500, learning_rate=0.1, max_depth=6, eval_metric='logloss')\n",
    "\n",
    "# Fit the model on the training data\n",
    "xgb_model.fit(X_train_full, y_train, eval_set=[(X_val_full, y_val)], early_stopping_rounds=50, verbose=True)\n",
    "\n",
    "# Make predictions and evaluate\n",
    "y_pred_xgb = xgb_model.predict(X_val_full)\n",
    "print(\"Classification Report for XGBoost:\")\n",
    "print(classification_report(y_val, y_pred_xgb))\n",
    "print(\"\\nAccuracy Score:\", accuracy_score(y_val, y_pred_xgb))\n"
   ]
  },
  {
   "cell_type": "markdown",
   "id": "6b4649e8",
   "metadata": {
    "papermill": {
     "duration": 0.039525,
     "end_time": "2024-11-08T17:33:50.862062",
     "exception": false,
     "start_time": "2024-11-08T17:33:50.822537",
     "status": "completed"
    },
    "tags": []
   },
   "source": [
    "### XGBoost Model Training\n",
    "\n",
    "In this section, I utilize **XGBoost (Extreme Gradient Boosting)**, a popular machine learning algorithm known for its efficiency and performance with structured data. XGBoost works by combining an ensemble of decision trees, optimizing for high accuracy while controlling for overfitting through regularization. It’s especially well-suited for tabular datasets with a mix of categorical and numerical features.\n",
    "\n",
    "1. **Define and Configure the XGBoost Model**:\n",
    "   - Set `n_estimators` (number of trees) to ensure sufficient learning steps.\n",
    "   - Adjust `learning_rate` to control the step size, balancing model complexity and training speed.\n",
    "   - Fine-tune `max_depth` for better control over tree size and model performance.\n",
    "\n",
    "2. **Train the Model on Training Data**:\n",
    "   - Fit the model using the full processed training data, including features such as TF-IDF text representations, one-hot encoded categorical features, text length, and sentiment score.\n",
    "   - Evaluate performance metrics such as accuracy and F1-score to measure effectiveness on the validation set.\n",
    "\n",
    "3. **Evaluate XGBoost Model**:\n",
    "   - After training, I assess performance on the validation set by generating a classification report and confusion matrix to gain insights into precision, recall, and F1-score for both disaster and non-disaster tweets."
   ]
  },
  {
   "cell_type": "code",
   "execution_count": 22,
   "id": "e98b6d4a",
   "metadata": {
    "execution": {
     "iopub.execute_input": "2024-11-08T17:33:50.944884Z",
     "iopub.status.busy": "2024-11-08T17:33:50.944441Z",
     "iopub.status.idle": "2024-11-08T17:34:10.924822Z",
     "shell.execute_reply": "2024-11-08T17:34:10.923795Z"
    },
    "papermill": {
     "duration": 20.025028,
     "end_time": "2024-11-08T17:34:10.927193",
     "exception": false,
     "start_time": "2024-11-08T17:33:50.902165",
     "status": "completed"
    },
    "tags": []
   },
   "outputs": [
    {
     "name": "stdout",
     "output_type": "stream",
     "text": [
      "0:\tlearn: 0.6790338\ttotal: 30.4ms\tremaining: 15.2s\n",
      "100:\tlearn: 0.4722416\ttotal: 2.32s\tremaining: 9.16s\n",
      "200:\tlearn: 0.3863691\ttotal: 4.6s\tremaining: 6.84s\n",
      "300:\tlearn: 0.3399119\ttotal: 6.88s\tremaining: 4.55s\n",
      "400:\tlearn: 0.3050111\ttotal: 9.19s\tremaining: 2.27s\n",
      "499:\tlearn: 0.2792044\ttotal: 11.4s\tremaining: 0us\n",
      "Submission file created: 'submission.csv'\n"
     ]
    }
   ],
   "source": [
    "import pandas as pd\n",
    "from sklearn.ensemble import VotingClassifier\n",
    "\n",
    "\n",
    "# Use the optimized ensemble with the best weights\n",
    "voting_model_best = VotingClassifier(\n",
    "    estimators=[\n",
    "        ('logreg', best_lr_model), \n",
    "        ('catboost', model), \n",
    "        ('xgboost', xgb_model)\n",
    "    ],\n",
    "    voting='soft',\n",
    "    weights=[3, 1, 1]\n",
    ")\n",
    "\n",
    "# Fit the Voting Classifier on the full training data\n",
    "voting_model_best.fit(X_train_full, y_train)\n",
    "\n",
    "# Generate predictions on the test data\n",
    "test_predictions = voting_model_best.predict(X_test_full)\n",
    "\n",
    "# Load the sample_submission to match 'id' column with test predictions\n",
    "sample_submission = pd.read_csv('/kaggle/input/nlp-getting-started/sample_submission.csv')\n",
    "\n",
    "# Create a DataFrame for submission\n",
    "submission = pd.DataFrame({\n",
    "    'id': sample_submission['id'],      # Match IDs from the sample submission\n",
    "    'target': test_predictions          # Predictions from the ensemble model\n",
    "})\n",
    "\n",
    "# Save the DataFrame to a CSV file for submission\n",
    "submission.to_csv('submission.csv', index=False)\n",
    "print(\"Submission file created: 'submission.csv'\")\n"
   ]
  }
 ],
 "metadata": {
  "kaggle": {
   "accelerator": "none",
   "dataSources": [
    {
     "databundleVersionId": 869809,
     "sourceId": 17777,
     "sourceType": "competition"
    }
   ],
   "dockerImageVersionId": 30786,
   "isGpuEnabled": false,
   "isInternetEnabled": true,
   "language": "python",
   "sourceType": "notebook"
  },
  "kernelspec": {
   "display_name": "Python 3",
   "language": "python",
   "name": "python3"
  },
  "language_info": {
   "codemirror_mode": {
    "name": "ipython",
    "version": 3
   },
   "file_extension": ".py",
   "mimetype": "text/x-python",
   "name": "python",
   "nbconvert_exporter": "python",
   "pygments_lexer": "ipython3",
   "version": "3.10.14"
  },
  "papermill": {
   "default_parameters": {},
   "duration": 82.038982,
   "end_time": "2024-11-08T17:34:13.588502",
   "environment_variables": {},
   "exception": null,
   "input_path": "__notebook__.ipynb",
   "output_path": "__notebook__.ipynb",
   "parameters": {},
   "start_time": "2024-11-08T17:32:51.549520",
   "version": "2.6.0"
  }
 },
 "nbformat": 4,
 "nbformat_minor": 5
}
